{
  "metadata": {
    "kernelspec": {
      "name": "python",
      "display_name": "Python (Pyodide)",
      "language": "python"
    },
    "language_info": {
      "codemirror_mode": {
        "name": "python",
        "version": 3
      },
      "file_extension": ".py",
      "mimetype": "text/x-python",
      "name": "python",
      "nbconvert_exporter": "python",
      "pygments_lexer": "ipython3",
      "version": "3.8"
    }
  },
  "nbformat_minor": 5,
  "nbformat": 4,
  "cells": [
    {
      "cell_type": "code",
      "source": "import math\n\ndef f(x):\n    return 1 / math.sqrt(x + 3)\n\ndef rectangle_left_sum(a, b, n):\n    h = (b - a) / n\n    result = 0\n\n    for i in range(n):\n        x_i = a + i * h\n        result += f(x_i)\n\n    result *= h\n    return result\n\na = 0.4\nb = 1.2\nprecision = 0.0001\n\nn = 1\nintegral_approximation = rectangle_left_sum(a, b, n)\n\nwhile abs(rectangle_left_sum(a, b, 2 * n) - rectangle_left_sum(a, b, n)) > precision:\n    n *= 2\n    integral_approximation = rectangle_left_sum(a, b, n)\n\nprint(\"Значення інтегралу методом прямокутників (лівої суми):\", integral_approximation)\n",
      "metadata": {
        "trusted": true
      },
      "execution_count": 2,
      "outputs": [
        {
          "name": "stdout",
          "text": "Значення інтегралу методом прямокутників (лівої суми): 0.41113251932702116\n",
          "output_type": "stream"
        }
      ],
      "id": "43a562a5-4b3f-4825-9ecd-ee0e18d114d3"
    },
    {
      "cell_type": "code",
      "source": "",
      "metadata": {},
      "execution_count": null,
      "outputs": [],
      "id": "c2ccd485-e028-45ee-87a4-f2e160a83a3a"
    }
  ]
}