{
  "metadata": {
    "kernelspec": {
      "name": "python",
      "display_name": "Python (Pyodide)",
      "language": "python"
    },
    "language_info": {
      "codemirror_mode": {
        "name": "python",
        "version": 3
      },
      "file_extension": ".py",
      "mimetype": "text/x-python",
      "name": "python",
      "nbconvert_exporter": "python",
      "pygments_lexer": "ipython3",
      "version": "3.8"
    }
  },
  "nbformat_minor": 5,
  "nbformat": 4,
  "cells": [
    {
      "cell_type": "code",
      "source": "def equation(x):\n    return 6*x**4 + 4*x**3 - x**2 - x - 10\n\ndef bisection_method(a, b, tol):\n    while (b - a) / 2.0 > tol:\n        c = (a + b) / 2.0\n        if equation(c) == 0:\n            return c\n        elif equation(c) * equation(a) < 0:\n            b = c\n        else:\n            a = c\n    return (a + b) / 2.0\n\ndef false_position_method(a, b, tol):\n    while True:\n        c = (a * equation(b) - b * equation(a)) / (equation(b) - equation(a))\n        if equation(c) == 0:\n            return c\n        elif equation(c) * equation(a) < 0:\n            b = c\n        else:\n            a = c\n        if abs(equation(c)) < tol:\n            return c\n\ndef secant_method(x0, x1, tol):\n    while True:\n        x2 = x1 - equation(x1) * (x1 - x0) / (equation(x1) - equation(x0))\n        if equation(x2) == 0:\n            return x2\n        x0, x1 = x1, x2\n        if abs(equation(x2)) < tol:\n            return x2\n\ntolerance = 1e-6\na = -5\nb = 5\nx0 = 0\nx1 = 1\n\nroot_bisection = bisection_method(a, b, tolerance)\nroot_false_position = false_position_method(a, b, tolerance)\nroot_secant = secant_method(x0, x1, tolerance)\n\nprint(\"Корінь рівняння за методом відокремлення коренів:\", root_bisection)\nprint(\"Корінь рівняння за методом полонинного ділення:\", root_false_position)\nprint(\"Корінь рівняння за методом хорд:\", root_secant)",
      "metadata": {
        "trusted": true
      },
      "execution_count": 7,
      "outputs": [
        {
          "name": "stdout",
          "text": "Корінь рівняння за методом відокремлення коренів: -1.3606935739517212\nКорінь рівняння за методом полонинного ділення: 1.0559904680628285\nКорінь рівняння за методом хорд: 1.0559904426518467\n",
          "output_type": "stream"
        }
      ],
      "id": "c74b9959-447f-4391-b366-995899080eb4"
    },
    {
      "cell_type": "code",
      "source": "",
      "metadata": {},
      "execution_count": null,
      "outputs": [],
      "id": "74cc9640-420b-4491-b2fa-83024c502d70"
    },
    {
      "cell_type": "code",
      "source": "",
      "metadata": {},
      "execution_count": null,
      "outputs": [],
      "id": "0f3c1abd-d908-4751-9e8b-3bbe51e84f0d"
    }
  ]
}