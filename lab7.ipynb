{
  "metadata": {
    "kernelspec": {
      "name": "python",
      "display_name": "Python (Pyodide)",
      "language": "python"
    },
    "language_info": {
      "codemirror_mode": {
        "name": "python",
        "version": 3
      },
      "file_extension": ".py",
      "mimetype": "text/x-python",
      "name": "python",
      "nbconvert_exporter": "python",
      "pygments_lexer": "ipython3",
      "version": "3.8"
    }
  },
  "nbformat_minor": 5,
  "nbformat": 4,
  "cells": [
    {
      "cell_type": "code",
      "source": "import numpy as np\nimport matplotlib.pyplot as plt\n\ndef newton_interpolation(x_values, y_values, x):\n    n = len(x_values)\n    coefficients = np.zeros(n)\n\n    for i in range(n):\n        coefficients[i] = y_values[i]\n        for j in range(i):\n            coefficients[i] = (coefficients[i] - coefficients[j]) / (x_values[i] - x_values[j])\n\n    result = 0\n    for i in range(n):\n        term = coefficients[i]\n        for j in range(i):\n            term *= (x - x_values[j])\n        result += term\n\n    return result\n\nx_values = [0.15, 0.16, 0.17, 0.18, 0.19, 0.20, 0.21, 0.22, 0.23, 0.24, 0.25]\ny_values = [4.4817, 4.9530, 5.4739, 6.0496, 6.6859, 7.3891, 8.1662, 9.0250, 9.9742, 11.0232, 12.1825]\n\nx_interpolate = [0.159, 0.173, 0.164]\n\ny_interpolate = [newton_interpolation(x_values, y_values, x) for x in x_interpolate]\n\nfor i in range(len(x_interpolate)):\n    print(f'Approximate f({x_interpolate[i]:.3f}) = {y_interpolate[i]:.4f}')\n\nx_range = np.linspace(min(x_values), max(x_values), 1000)\ny_range = [newton_interpolation(x_values, y_values, x) for x in x_range]\n\nplt.scatter(x_values, y_values, color='red', label='Given Points')\nplt.plot(x_range, y_range, label='Newton Interpolation')\nplt.scatter(x_interpolate, y_interpolate, color='blue', label='Interpolated Points')\nplt.title('Newton Interpolation')\nplt.xlabel('x')\nplt.ylabel('f(x)')\nplt.legend()\nplt.grid(True)\nplt.show()\n",
      "metadata": {},
      "execution_count": null,
      "outputs": [],
      "id": "c21d39b8-6b37-451f-bfc0-9ebdbacf4967"
    }
  ]
}