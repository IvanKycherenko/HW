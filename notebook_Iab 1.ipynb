{
  "metadata": {
    "kernelspec": {
      "name": "python",
      "display_name": "Python (Pyodide)",
      "language": "python"
    },
    "language_info": {
      "codemirror_mode": {
        "name": "python",
        "version": 3
      },
      "file_extension": ".py",
      "mimetype": "text/x-python",
      "name": "python",
      "nbconvert_exporter": "python",
      "pygments_lexer": "ipython3",
      "version": "3.8"
    }
  },
  "nbformat_minor": 5,
  "nbformat": 4,
  "cells": [
    {
      "cell_type": "code",
      "source": "import math as m\n\nx1=m.sqrt(83)\nx2=6/11\nx3=9.11\nx4=0.545\n\ndef f(x1, x2, x3, x4):\n    a=abs(x1-x3)/x1;\n    b=abs(x2-x4)/x3;\n    \n    if a < b:\n        print(\"Рівність √83=9,11, буде точнішою:\", a) \n    elif b > a:\n        print(\"Рівніть 6/11=0,545, буде точнішою:\", b)\n    else:\n        print(\"Обидві рівности одинаково точні\", a)",
      "metadata": {
        "trusted": true
      },
      "execution_count": 1,
      "outputs": [],
      "id": "d4717a8c-ab40-45fd-b88f-5b44614ba6c0"
    },
    {
      "cell_type": "code",
      "source": "import math as m\n\nx1=3.7834\nx2=0.0041\n\ndef func(x1, x2):\n    x1=3*10^(0)+7*10^(-1)+8*10^(-2)+3*10^(-3)+4*10^(-4);\n    n1=0.5*10^1-1+1\n    n2=0.5*10^1-2+1\n    n3=0.5*10^1-3+1\n    n4=0.5*10^1-4+1\n    n5=0.5*10^1-5+1\n    if x2 >= n1:\n        print(\"Правильне число у вузькому розумінні 3\", x2, \"=>\", n1, \"В-дь:n1\")\n    elif x2 >= n2:\n        print(\"Правильне число у вузькому розумінні 3,7\", x2, \"=>\", n2, \"В-дь:n2\")\n    elif x2 >= n3:\n        print(\"Правильне число у вузькому розумінні 3,7,8\", x2, \"=>\", n3, \"В-дь:n3\")\n    elif x2 >= n3:\n        print(\"Правильне число у вузькому розумінні 3,7,8,3\", x2, \"=>\", n4, \"В-дь:n4\")\n    else:\n         print(\"Правильне число у вузькому розумінні 3,7,8,3,4\", x2, \"=>\", n5, \"В-дь:n5\")\n         \n\n\n",
      "metadata": {
        "trusted": true
      },
      "execution_count": 2,
      "outputs": [],
      "id": "aad9198e-305a-4e0d-9627-24570f89ef34"
    },
    {
      "cell_type": "code",
      "source": "import math as m\n\nx=21,68563\nb=0.003\n\ndef func(x, b):\n    x1=2*10^1+1*10^0+6*10^(-1)+8*10^(-2)+5*10^(-3)+6*10^(-4)+3*10^(-5)\n    x2=x*b\n    n1=1*10^1-1+1\n    n2=1*10^1-2+1\n    n3=1*10^1-3+1\n    n4=1*10^1-4+1\n    n5=1*10^1-5+1\n    if x2 <= n1:\n        print(\"Правильне число у вузькому розумінні 3\", x2, \"<=\", n1, \"В-дь:n1\")\n    elif x2 <= n2:\n        print(\"Правильне число у вузькому розумінні 3,7\", x2, \"<=\", n2, \"В-дь:n2\")\n    elif x2 <= n3:\n        print(\"Правильне число у вузькому розумінні 3,7,8\", x2, \"<=\", n3, \"В-дь:n3\")\n    elif x2 <= n3:\n        print(\"Правильне число у вузькому розумінні 3,7,8,3\", x2, \"<=\", n4, \"В-дь:n4\")\n    else:\n         print(\"Правильне число у вузькому розумінні 3,7,8,3,4\", x2, \"<=\", n5, \"В-дь:n5\")",
      "metadata": {
        "trusted": true
      },
      "execution_count": 7,
      "outputs": [],
      "id": "26354cbe-b5b6-4535-91ea-c8731d71ec7d"
    },
    {
      "cell_type": "code",
      "source": "",
      "metadata": {},
      "execution_count": null,
      "outputs": [],
      "id": "6db26f0e-22ac-4312-b7ae-78b8184493fa"
    }
  ]
}