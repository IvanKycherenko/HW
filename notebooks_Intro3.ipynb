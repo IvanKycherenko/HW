{
  "metadata": {
    "kernelspec": {
      "name": "python",
      "display_name": "Python (Pyodide)",
      "language": "python"
    },
    "language_info": {
      "codemirror_mode": {
        "name": "python",
        "version": 3
      },
      "file_extension": ".py",
      "mimetype": "text/x-python",
      "name": "python",
      "nbconvert_exporter": "python",
      "pygments_lexer": "ipython3",
      "version": "3.8"
    }
  },
  "nbformat_minor": 5,
  "nbformat": 4,
  "cells": [
    {
      "cell_type": "code",
      "source": "import math\n\ndef f(x):\n    return 1 / math.sqrt(0.5 * x**2 + 1.5)\n\ndef trapezoidal_rule(a, b, n):\n    h = (b - a) / n\n    result = (f(a) + f(b)) / 2\n\n    for i in range(1, n):\n        result += f(a + i * h)\n\n    result *= h\n    return result\n\na = 1.2\nb = 2\nprecision = 0.0001\n\nn = 20\nintegral_approximation = trapezoidal_rule(a, b, n)\n\nwhile abs(trapezoidal_rule(a, b, 2 * n) - trapezoidal_rule(a, b, n)) > precision:\n    n *= 2\n    integral_approximation = trapezoidal_rule(a, b, n)\n\nprint(\"Значення інтегралу методом трапецій:\", integral_approximation)\n",
      "metadata": {
        "trusted": true
      },
      "execution_count": 4,
      "outputs": [
        {
          "name": "stdout",
          "text": "Значення інтегралу методом трапецій: 0.4806556058951388\n",
          "output_type": "stream"
        }
      ],
      "id": "eb09a5a5-b31d-4e13-b57d-0d99b2b2da6a"
    },
    {
      "cell_type": "code",
      "source": "",
      "metadata": {},
      "execution_count": null,
      "outputs": [],
      "id": "08f4a1a8-91d0-400d-b308-97e840456d3b"
    }
  ]
}