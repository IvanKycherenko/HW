{
  "metadata": {
    "kernelspec": {
      "name": "python",
      "display_name": "Python (Pyodide)",
      "language": "python"
    },
    "language_info": {
      "codemirror_mode": {
        "name": "python",
        "version": 3
      },
      "file_extension": ".py",
      "mimetype": "text/x-python",
      "name": "python",
      "nbconvert_exporter": "python",
      "pygments_lexer": "ipython3",
      "version": "3.8"
    }
  },
  "nbformat_minor": 5,
  "nbformat": 4,
  "cells": [
    {
      "cell_type": "code",
      "source": "import math as m\nimport namry as np\nfrom scipy.misk import derivative\ndef func(x):\n    return 6*x**4 + 4*x**3 - x**2 - x - 10\neps=0.0001   ",
      "metadata": {
        "trusted": true
      },
      "execution_count": null,
      "outputs": [],
      "id": "21aeff8e-50c9-46ec-864c-39bec481d0e2"
    },
    {
      "cell_type": "code",
      "source": "def hord(a,b,eps):\n    if(f(a)*derivative(f,a,n=2)>0):\n            x0=a\n            xi=b\n        else:\n            x0=b\n            xi=a\n        xi_1=xi-(xi-xo)*f(xi)/(f(xi)-f(xo))\n        while(abs(xi_1-xi)>ops):\n            xi=xi_1\n            xi_1=xi-(xi-xo)*f(xi)/(f(xi)-f(xo))\n        print(\"Metod hord, x= \", round (xi_1,6))",
      "metadata": {
        "trusted": true
      },
      "execution_count": null,
      "outputs": [],
      "id": "f772fbc1-ab4d-438f-a5b3-22ce53ded2e2"
    },
    {
      "cell_type": "code",
      "source": "",
      "metadata": {},
      "execution_count": null,
      "outputs": [],
      "id": "f8ec77d4-4da0-491a-912e-140e7f4c8a1c"
    },
    {
      "cell_type": "code",
      "source": "",
      "metadata": {},
      "execution_count": null,
      "outputs": [],
      "id": "c8508300-bcca-4975-b7ac-ccf015cae85f"
    }
  ]
}