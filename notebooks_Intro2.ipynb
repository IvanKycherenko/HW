{
  "metadata": {
    "kernelspec": {
      "name": "python",
      "display_name": "Python (Pyodide)",
      "language": "python"
    },
    "language_info": {
      "codemirror_mode": {
        "name": "python",
        "version": 3
      },
      "file_extension": ".py",
      "mimetype": "text/x-python",
      "name": "python",
      "nbconvert_exporter": "python",
      "pygments_lexer": "ipython3",
      "version": "3.8"
    }
  },
  "nbformat_minor": 5,
  "nbformat": 4,
  "cells": [
    {
      "cell_type": "code",
      "source": "import math\n\ndef f(x):\n    return (2*x + 0.5) * math.sin(x)\n\ndef simpson_rule(a, b, n):\n    h = (b - a) / n\n    result = f(a) + f(b)\n\n    for i in range(1, n, 2):\n        result += 4 * f(a + i * h)\n\n    for i in range(2, n-1, 2):\n        result += 2 * f(a + i * h)\n\n    result *= h / 3\n    return result\n\na = 0.4\nb = 1.2\nprecision = 0.0001\n\nn = 8\nintegral_approximation = simpson_rule(a, b, n)\n\nwhile abs(simpson_rule(a, b, 2 * n) - simpson_rule(a, b, n)) > precision:\n    n *= 2\n    integral_approximation = simpson_rule(a, b, n)\n\nprint(\"Значення інтегралу методом Сімпсона:\", integral_approximation)\n",
      "metadata": {
        "trusted": true
      },
      "execution_count": 3,
      "outputs": [
        {
          "name": "stdout",
          "text": "Значення інтегралу методом Сімпсона: 1.2317815607178273\n",
          "output_type": "stream"
        }
      ],
      "id": "c2ccd485-e028-45ee-87a4-f2e160a83a3a"
    },
    {
      "cell_type": "code",
      "source": "",
      "metadata": {},
      "execution_count": null,
      "outputs": [],
      "id": "eb09a5a5-b31d-4e13-b57d-0d99b2b2da6a"
    }
  ]
}