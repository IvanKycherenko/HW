{
  "metadata": {
    "language_info": {
      "codemirror_mode": {
        "name": "python",
        "version": 3
      },
      "file_extension": ".py",
      "mimetype": "text/x-python",
      "name": "python",
      "nbconvert_exporter": "python",
      "pygments_lexer": "ipython3",
      "version": "3.8"
    },
    "kernelspec": {
      "name": "python",
      "display_name": "Python (Pyodide)",
      "language": "python"
    }
  },
  "nbformat_minor": 4,
  "nbformat": 4,
  "cells": [
    {
      "cell_type": "code",
      "source": "import numpy as np\n\nA = np.array([[1, 2],\n              [4, -1]])\n\nB = np.array([[2, -3],\n              [-4, 1]])\n\nC = np.dot(A, B) - np.dot(B, A)\n\nprint(\"Матрица C:\")\nprint(C)",
      "metadata": {
        "trusted": true
      },
      "execution_count": 1,
      "outputs": [
        {
          "name": "stdout",
          "text": "Матрица C:\n[[ 4 -8]\n [12 -4]]\n",
          "output_type": "stream"
        }
      ]
    },
    {
      "cell_type": "code",
      "source": "import numpy as np\n\nA = np.array([[-1, 2],\n              [0, 1]])\n\nA_squared = np.dot(A, A)\n\nprint(\"Матрица A^2:\")\nprint(A_squared)",
      "metadata": {
        "trusted": true
      },
      "execution_count": 2,
      "outputs": [
        {
          "name": "stdout",
          "text": "Матрица A^2:\n[[1 0]\n [0 1]]\n",
          "output_type": "stream"
        }
      ]
    },
    {
      "cell_type": "code",
      "source": "import numpy as np\n\nA = np.array([[3, 5],\n              [6, -1]])\n\nB = np.array([[2, 1],\n              [-3, 2]])\n\nresult = np.dot(A, B)\n\nprint(\"Результат умножения матриц A и B:\")\nprint(result)",
      "metadata": {
        "trusted": true
      },
      "execution_count": 3,
      "outputs": [
        {
          "name": "stdout",
          "text": "Результат умножения матриц A и B:\n[[-9 13]\n [15  4]]\n",
          "output_type": "stream"
        }
      ]
    },
    {
      "cell_type": "code",
      "source": "import numpy as np\n\nmatrix = np.array([[2, 3, 4],\n                   [1, 0, 6],\n                   [7, 8, 9]])\n\ndeterminant = np.linalg.det(matrix)\n\nprint(\"Определитель матрицы:\")\nprint(determinant)\n",
      "metadata": {
        "trusted": true
      },
      "execution_count": 4,
      "outputs": [
        {
          "name": "stdout",
          "text": "Определитель матрицы:\n35.00000000000001\n",
          "output_type": "stream"
        }
      ]
    },
    {
      "cell_type": "code",
      "source": "import numpy as np\n\nA = np.array([[1, -2, 3],\n              [4, 2, -3],\n              [3, -3, 5]])\n\nB = np.array([-5, 0, -9])\n\ndet_A = np.linalg.det(A)\n\nAx = A.copy()\nAx[:, 0] = B\n\nAy = A.copy()\nAy[:, 1] = B\n\nAz = A.copy()\nAz[:, 2] = B\n\ndet_Ax = np.linalg.det(Ax)\ndet_Ay = np.linalg.det(Ay)\ndet_Az = np.linalg.det(Az)\n\nx = det_Ax / det_A\ny = det_Ay / det_A\nz = det_Az / det_A\n\nprint(\"Решение методом Крамера:\")\nprint(f\"x = {x}, y = {y}, z = {z}\")\n",
      "metadata": {
        "trusted": true
      },
      "execution_count": 5,
      "outputs": [
        {
          "name": "stdout",
          "text": "Решение методом Крамера:\nx = -1.0, y = 1.9999999999999996, z = 0.0\n",
          "output_type": "stream"
        }
      ]
    },
    {
      "cell_type": "code",
      "source": "",
      "metadata": {},
      "execution_count": null,
      "outputs": []
    }
  ]
}