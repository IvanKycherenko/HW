{
  "metadata": {
    "kernelspec": {
      "name": "python",
      "display_name": "Python (Pyodide)",
      "language": "python"
    },
    "language_info": {
      "codemirror_mode": {
        "name": "python",
        "version": 3
      },
      "file_extension": ".py",
      "mimetype": "text/x-python",
      "name": "python",
      "nbconvert_exporter": "python",
      "pygments_lexer": "ipython3",
      "version": "3.8"
    }
  },
  "nbformat_minor": 5,
  "nbformat": 4,
  "cells": [
    {
      "cell_type": "code",
      "source": "import numpy as np\nimport matplotlib.pyplot as plt\n\ndef lagrange_interpolation(x_values, y_values, x):\n    result = 0\n    for i in range(len(y_values)):\n        term = y_values[i]\n        for j in range(len(x_values)):\n            if j != i:\n                term = term * (x - x_values[j]) / (x_values[i] - x_values[j])\n        result += term\n    return result\n\nx_values = [-2, 0, 1, 2]\ny_values = [30, -4, 3, 18]\n\ntarget_points = [0.5, 1.5]\napproximate_values = [lagrange_interpolation(x_values, y_values, x) for x in target_points]\n\nfor i in range(len(target_points)):\n    print(f'Approximate f({target_points[i]}) = {approximate_values[i]:.3f}')D\n\nx_range = np.linspace(min(x_values), max(x_values), 1000)\ny_range = [lagrange_interpolation(x_values, y_values, x) for x in x_range]\n\nplt.scatter(x_values, y_values, color='red', label='Given Points')\nplt.plot(x_range, y_range, label='Lagrange Interpolation')\nplt.title('Lagrange Interpolation')\nplt.xlabel('x')\nplt.ylabel('f(x)')\nplt.legend()\nplt.grid(True)\nplt.show()\n",
      "metadata": {},
      "execution_count": null,
      "outputs": [],
      "id": "c8508300-bcca-4975-b7ac-ccf015cae85f"
    }
  ]
}